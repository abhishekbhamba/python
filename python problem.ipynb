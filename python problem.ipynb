{
  "nbformat": 4,
  "nbformat_minor": 0,
  "metadata": {
    "kernelspec": {
      "display_name": "Python 3 (ipykernel)",
      "language": "python",
      "name": "python3"
    },
    "language_info": {
      "codemirror_mode": {
        "name": "ipython",
        "version": 3
      },
      "file_extension": ".py",
      "mimetype": "text/x-python",
      "name": "python",
      "nbconvert_exporter": "python",
      "pygments_lexer": "ipython3",
      "version": "3.9.1"
    },
    "toc": {
      "base_numbering": 1,
      "nav_menu": {},
      "number_sections": true,
      "sideBar": true,
      "skip_h1_title": false,
      "title_cell": "Table of Contents",
      "title_sidebar": "Contents",
      "toc_cell": false,
      "toc_position": {},
      "toc_section_display": true,
      "toc_window_display": false
    },
    "varInspector": {
      "cols": {
        "lenName": 16,
        "lenType": 16,
        "lenVar": 40
      },
      "kernels_config": {
        "python": {
          "delete_cmd_postfix": "",
          "delete_cmd_prefix": "del ",
          "library": "var_list.py",
          "varRefreshCmd": "print(var_dic_list())"
        },
        "r": {
          "delete_cmd_postfix": ") ",
          "delete_cmd_prefix": "rm(",
          "library": "var_list.r",
          "varRefreshCmd": "cat(var_dic_list()) "
        }
      },
      "types_to_exclude": [
        "module",
        "function",
        "builtin_function_or_method",
        "instance",
        "_Feature"
      ],
      "window_display": false
    },
    "colab": {
      "name": "abhishek dharmender (DS10).ipynb",
      "provenance": [],
      "collapsed_sections": []
    }
  },
  "cells": [
    {
      "cell_type": "markdown",
      "metadata": {
        "deletable": false,
        "editable": false,
        "nbgrader": {
          "cell_type": "markdown",
          "checksum": "5d28e81fc60c746ecd05d524269b9275",
          "grade": false,
          "grade_id": "cell-0a1cd97d29171e27",
          "locked": true,
          "schema_version": 3,
          "solution": false,
          "task": false
        },
        "id": "uDQ29t60aolR"
      },
      "source": [
        "# Rules:\n",
        "    1. Follow the given instructions strictly as the assignment will be automatically rejected if not done so.\n",
        "    2. After you are done answering the questions, save the notebook in .ipynb format and rename it as so;\n",
        "        \n",
        "        <<Your name as visible on 'My Courses' page>>_PW2-A1.ipynb\n",
        "        \n",
        "    3. After renaming the file as above submit onto the platform."
      ]
    },
    {
      "cell_type": "markdown",
      "metadata": {
        "deletable": false,
        "editable": false,
        "nbgrader": {
          "cell_type": "markdown",
          "checksum": "c3e759877055ca3f22eccc6bb26a2db9",
          "grade": false,
          "grade_id": "cell-39806162dd625703",
          "locked": true,
          "schema_version": 3,
          "solution": false,
          "task": false
        },
        "id": "ZvsmqDQSaolW"
      },
      "source": [
        "# Python W2 - Assignment 01"
      ]
    },
    {
      "cell_type": "markdown",
      "metadata": {
        "deletable": false,
        "editable": false,
        "nbgrader": {
          "cell_type": "markdown",
          "checksum": "826356eed441591b2d82f7e2fbed11df",
          "grade": false,
          "grade_id": "Q1",
          "locked": true,
          "schema_version": 3,
          "solution": false,
          "task": false
        },
        "id": "0pnRMfw1aolW"
      },
      "source": [
        "\n",
        "## Data Collection Types\n",
        "\n",
        "List down the definitions and differences between the different data collection types in python\n",
        "\n",
        "Instructions:\n",
        "- Enter your solution in the cell block below only. Double click to edit.\n",
        "- Do not edit anything else apart from 'YOUR ANSWER HERE' for your solution"
      ]
    },
    {
      "cell_type": "markdown",
      "metadata": {
        "deletable": false,
        "nbgrader": {
          "cell_type": "markdown",
          "checksum": "b1bb0f26c3115f4d7d7f924544ba6de8",
          "grade": true,
          "grade_id": "A1",
          "locked": false,
          "points": 2,
          "schema_version": 3,
          "solution": true,
          "task": false
        },
        "id": "yuz8RADPaolX"
      },
      "source": [
        "YOUR ANSWER HERE"
      ]
    },
    {
      "cell_type": "code",
      "metadata": {
        "deletable": false,
        "editable": false,
        "nbgrader": {
          "cell_type": "code",
          "checksum": "eac05f55af24ef036be718ea50a5abc5",
          "grade": false,
          "grade_id": "cell-bdbb11386adf6c13",
          "locked": true,
          "schema_version": 3,
          "solution": false,
          "task": false
        },
        "id": "0vl8NQT7aolY"
      },
      "source": [
        "# LISTS: are just dynamic sized, array list not need to be homogeneous alwaways it is the powerful tool of python.\n",
        "#      ---->  list is a collection which is ordered and changeable.\n",
        "# TUPLE: A tuple is a collection of python object seperated by commas. and it is similar to python.\n",
        "#      ---->  Tuple is a collection which is ordered and unchangeable.\n",
        "# SETS: Sets is a unordered collection of data type that is iterble, mutable and has no duplicate elements.\n",
        "#      ---->  Sets is a colletion which is unordered and unchangeable and unindexed.\n",
        "# DICTIONARY: Dictionary hold key:values pair. Key value is provided in the dictionary to make it more optimized.\n",
        "#      ---->  Dictionary is a collection which is ordered and changeable."
      ],
      "execution_count": null,
      "outputs": []
    },
    {
      "cell_type": "markdown",
      "metadata": {
        "deletable": false,
        "editable": false,
        "nbgrader": {
          "cell_type": "markdown",
          "checksum": "6ceecac5b4747119f66afcb8e2e4e890",
          "grade": false,
          "grade_id": "cell-a13189a026c3771d",
          "locked": true,
          "schema_version": 3,
          "solution": false,
          "task": false
        },
        "id": "BGnyozkAaolY"
      },
      "source": [
        "## Match the data types\n",
        "\n",
        "A) 1.0\\\n",
        "B) name\\\n",
        "C) 1\\\n",
        "D) true\n",
        "\n",
        "I. integer\\\n",
        "II. boolean\\\n",
        "III. string\\\n",
        "IV. float\\\n",
        "V. None"
      ]
    },
    {
      "cell_type": "markdown",
      "metadata": {
        "deletable": false,
        "nbgrader": {
          "cell_type": "markdown",
          "checksum": "38e5087b0ebe78439e867ce1a77c9bb6",
          "grade": true,
          "grade_id": "cell-5b0ec5b5f53b7705",
          "locked": false,
          "points": 2,
          "schema_version": 3,
          "solution": true,
          "task": false
        },
        "id": "dCSGQ2uiaolZ"
      },
      "source": [
        "YOUR ANSWER HERE\n",
        "\n",
        "\n",
        "\n",
        "A) 1.0   ----> iv)  float\n",
        "\n",
        "B) name  ----> iii) string\n",
        "\n",
        "C) 1     ----> i)   integer\n",
        "\n",
        "D) true  ----> ii)  boolean\n",
        "\n"
      ]
    },
    {
      "cell_type": "markdown",
      "metadata": {
        "deletable": false,
        "editable": false,
        "nbgrader": {
          "cell_type": "markdown",
          "checksum": "c8e811b27d911880144df511cdbff7e8",
          "grade": false,
          "grade_id": "Q2",
          "locked": true,
          "schema_version": 3,
          "solution": false,
          "task": false
        },
        "id": "NDF-_5eraola"
      },
      "source": [
        "## Scenario Psuedo Code\n",
        "A general scenario you encounter while cleaning datasets is of strings containing integers and special characters in them. \n",
        "\n",
        "Ex: 'AP09XX8799' is a vehicle number which contains both numbers and the letters. 'AP' is the state code of vehicle registration and other numbers/letters signify other information.\n",
        "\n",
        "If a single line of such statement is given to you, explain the algorithm with psuedo code that you would use to find and differentiate all such letters and digits/special characters ?\n",
        "\n",
        "Instructions:\n",
        "- Enter your solution in the cell block below only. Double click to edit.\n",
        "- Do not edit anything else apart from 'YOUR ANSWER HERE' for your solution"
      ]
    },
    {
      "cell_type": "markdown",
      "metadata": {
        "deletable": false,
        "nbgrader": {
          "cell_type": "markdown",
          "checksum": "932f2babf6b7024bb49654516db0d0cb",
          "grade": true,
          "grade_id": "A2",
          "locked": false,
          "points": 2,
          "schema_version": 3,
          "solution": true,
          "task": false
        },
        "id": "yG3i7z-Iaolb"
      },
      "source": [
        "YOUR ANSWER HERE"
      ]
    },
    {
      "cell_type": "code",
      "metadata": {
        "deletable": false,
        "editable": false,
        "nbgrader": {
          "cell_type": "code",
          "checksum": "4a32da98702e61507f14b6eeb50c7c21",
          "grade": false,
          "grade_id": "cell-c583dcd635f03dab",
          "locked": true,
          "schema_version": 3,
          "solution": false,
          "task": false
        },
        "id": "UcMqDTucaolb"
      },
      "source": [
        ""
      ],
      "execution_count": null,
      "outputs": []
    },
    {
      "cell_type": "markdown",
      "metadata": {
        "deletable": false,
        "editable": false,
        "nbgrader": {
          "cell_type": "markdown",
          "checksum": "5ef100d3dc61d87b5fd6626cb92ade87",
          "grade": false,
          "grade_id": "Q3",
          "locked": true,
          "schema_version": 3,
          "solution": false,
          "task": false
        },
        "id": "SaLRQeHTaolc"
      },
      "source": [
        "## Greatest Common Divisor\n",
        "\n",
        "Write a program to find the greatest common divisor for two numbers\n",
        "\n",
        "Instructions:\n",
        "- Enter your solution in the cell block below only.\n",
        "- Do not edit anything else apart from 'YOUR ANSWER HERE' for your solution"
      ]
    },
    {
      "cell_type": "code",
      "metadata": {
        "deletable": false,
        "nbgrader": {
          "cell_type": "code",
          "checksum": "0c1086e55e46f4bcc4ce901431420bf8",
          "grade": true,
          "grade_id": "A3",
          "locked": false,
          "points": 2,
          "schema_version": 3,
          "solution": true,
          "task": false
        },
        "id": "p8i3TXihaolc"
      },
      "source": [
        "# YOUR ANSWER HERE"
      ],
      "execution_count": null,
      "outputs": []
    },
    {
      "cell_type": "code",
      "metadata": {
        "deletable": false,
        "editable": false,
        "nbgrader": {
          "cell_type": "code",
          "checksum": "f88b0eebd4d316703cf56b4c48a72efa",
          "grade": false,
          "grade_id": "cell-f0e0b9c35862e705",
          "locked": true,
          "schema_version": 3,
          "solution": false,
          "task": false
        },
        "id": "zjHLjMtmaold",
        "colab": {
          "base_uri": "https://localhost:8080/",
          "height": 270
        },
        "outputId": "8db01e42-f5e2-46c2-ba07-a3cb97cfe687"
      },
      "source": [
        "num1 = int(input(\"Enter first number\\n\"))\n",
        "num2 = int(input(\"Enter second number\\n\"))\n",
        "\n",
        "if num2>num1:\n",
        "  mn = num1\n",
        "else:\n",
        "    mn = num2\n",
        "\n",
        "    for i in range(1, mn+1):\n",
        "      if num1%i==0 and num2%i==0:\n",
        "        hcf = i\n",
        "print(f\"The HCF/GCD of these two numbers is {hcf}\" )"
      ],
      "execution_count": null,
      "outputs": [
        {
          "name": "stdout",
          "output_type": "stream",
          "text": [
            "Enter first number\n",
            "15\n",
            "Enter second number\n",
            "30\n"
          ]
        },
        {
          "output_type": "error",
          "ename": "NameError",
          "evalue": "ignored",
          "traceback": [
            "\u001b[0;31m---------------------------------------------------------------------------\u001b[0m",
            "\u001b[0;31mNameError\u001b[0m                                 Traceback (most recent call last)",
            "\u001b[0;32m<ipython-input-2-3291e5ade663>\u001b[0m in \u001b[0;36m<module>\u001b[0;34m()\u001b[0m\n\u001b[1;32m     10\u001b[0m       \u001b[0;32mif\u001b[0m \u001b[0mnum1\u001b[0m\u001b[0;34m%\u001b[0m\u001b[0mi\u001b[0m\u001b[0;34m==\u001b[0m\u001b[0;36m0\u001b[0m \u001b[0;32mand\u001b[0m \u001b[0mnum2\u001b[0m\u001b[0;34m%\u001b[0m\u001b[0mi\u001b[0m\u001b[0;34m==\u001b[0m\u001b[0;36m0\u001b[0m\u001b[0;34m:\u001b[0m\u001b[0;34m\u001b[0m\u001b[0;34m\u001b[0m\u001b[0m\n\u001b[1;32m     11\u001b[0m         \u001b[0mhcf\u001b[0m \u001b[0;34m=\u001b[0m \u001b[0mi\u001b[0m\u001b[0;34m\u001b[0m\u001b[0;34m\u001b[0m\u001b[0m\n\u001b[0;32m---> 12\u001b[0;31m \u001b[0mprint\u001b[0m\u001b[0;34m(\u001b[0m\u001b[0;34mf\"The HCF/GCD of these two numbers is {hcf}\"\u001b[0m \u001b[0;34m)\u001b[0m\u001b[0;34m\u001b[0m\u001b[0;34m\u001b[0m\u001b[0m\n\u001b[0m",
            "\u001b[0;31mNameError\u001b[0m: name 'hcf' is not defined"
          ]
        }
      ]
    },
    {
      "cell_type": "markdown",
      "metadata": {
        "deletable": false,
        "editable": false,
        "nbgrader": {
          "cell_type": "markdown",
          "checksum": "0b48b77acc592a14a5eab148294322c2",
          "grade": false,
          "grade_id": "Q4",
          "locked": true,
          "schema_version": 3,
          "solution": false,
          "task": false
        },
        "id": "uFGacFEJaole"
      },
      "source": [
        "## List Operations\n",
        "\n",
        "Given two lists, write a program to perform the following operations on the lists;\n",
        "- Union\n",
        "- Intersection\n",
        "- Left Difference\n",
        "- Right Difference\n",
        "\n",
        "Instructions:\n",
        "- Enter your solution in the cell block below only.\n",
        "- Do not edit anything else apart from 'YOUR ANSWER HERE' for your solution"
      ]
    },
    {
      "cell_type": "code",
      "metadata": {
        "deletable": false,
        "nbgrader": {
          "cell_type": "code",
          "checksum": "fa02304f91d4af359eb00de7102f5cfe",
          "grade": true,
          "grade_id": "A4",
          "locked": false,
          "points": 2,
          "schema_version": 3,
          "solution": true,
          "task": false
        },
        "id": "69QYheKsaole"
      },
      "source": [
        "# YOUR ANSWER HERE"
      ],
      "execution_count": null,
      "outputs": []
    },
    {
      "cell_type": "code",
      "metadata": {
        "deletable": false,
        "editable": false,
        "nbgrader": {
          "cell_type": "code",
          "checksum": "f1b559db59d3786992d7062d60fced26",
          "grade": false,
          "grade_id": "cell-6975b5c3cd3b6be9",
          "locked": true,
          "schema_version": 3,
          "solution": false,
          "task": false
        },
        "id": "WZ4o_yUwaole",
        "colab": {
          "base_uri": "https://localhost:8080/"
        },
        "outputId": "2d0f4977-3a09-4b73-b221-8c00a35561c5"
      },
      "source": [
        "# union\n",
        "list_A=[10,12,31,42,35,16]\n",
        "list_B=[21,10,13,16,42,19]\n",
        "print(\"list A\",list_A)\n",
        "print(\"list B\",list_B)\n",
        "union=[]\n",
        "for i in list_A:\n",
        "  union.append(i)\n",
        "for j in list_B:\n",
        "  union.append(j)\n",
        "print(\"Union =>\",list(set(union)))\n",
        "\n",
        "#intersection\n",
        "intersection=[]\n",
        "for i in range(len(list_A)):\n",
        "    for j in range(len(list_B)):\n",
        "        if list_A[i]==list_B[j]:\n",
        "              intersection.append(list_A[i])\n",
        "print(\"intersection=>\",intersection)"
      ],
      "execution_count": null,
      "outputs": [
        {
          "output_type": "stream",
          "name": "stdout",
          "text": [
            "list A [10, 12, 31, 42, 35, 16]\n",
            "list B [21, 10, 13, 16, 42, 19]\n",
            "Union => [35, 10, 42, 12, 13, 16, 19, 21, 31]\n",
            "intersection=> [10, 42, 16]\n"
          ]
        }
      ]
    },
    {
      "cell_type": "code",
      "metadata": {
        "colab": {
          "base_uri": "https://localhost:8080/",
          "height": 357
        },
        "id": "ne_5k4xpdAQU",
        "outputId": "ea1fd188-ce93-4925-e5df-d90b8c4cfbc5"
      },
      "source": [
        "#left differences\n",
        "a=[]\n",
        "size=int(input(\"Enter size of the List:\"))\n",
        "for i in range (size):\n",
        "      val=int(input(\"Enter size of the List\"))\n",
        "a.append(val)\n",
        "print(\"Original List is:\",a)\n",
        "first_element=a[0]\n",
        "for i in range(1,size):\n",
        "            a[i-1]=a[i]\n",
        "a[size-1]=first_element\n",
        "print(\"Modified List is:\",a)"
      ],
      "execution_count": null,
      "outputs": [
        {
          "output_type": "stream",
          "name": "stdout",
          "text": [
            "Enter size of the List:5\n",
            "Enter size of the List1\n",
            "Enter size of the List2\n",
            "Enter size of the List3\n",
            "Enter size of the List4\n",
            "Enter size of the List5\n",
            "Original List is: [5]\n"
          ]
        },
        {
          "output_type": "error",
          "ename": "IndexError",
          "evalue": "ignored",
          "traceback": [
            "\u001b[0;31m---------------------------------------------------------------------------\u001b[0m",
            "\u001b[0;31mIndexError\u001b[0m                                Traceback (most recent call last)",
            "\u001b[0;32m<ipython-input-4-fa045a1f1a3b>\u001b[0m in \u001b[0;36m<module>\u001b[0;34m()\u001b[0m\n\u001b[1;32m      8\u001b[0m \u001b[0mfirst_element\u001b[0m\u001b[0;34m=\u001b[0m\u001b[0ma\u001b[0m\u001b[0;34m[\u001b[0m\u001b[0;36m0\u001b[0m\u001b[0;34m]\u001b[0m\u001b[0;34m\u001b[0m\u001b[0;34m\u001b[0m\u001b[0m\n\u001b[1;32m      9\u001b[0m \u001b[0;32mfor\u001b[0m \u001b[0mi\u001b[0m \u001b[0;32min\u001b[0m \u001b[0mrange\u001b[0m\u001b[0;34m(\u001b[0m\u001b[0;36m1\u001b[0m\u001b[0;34m,\u001b[0m\u001b[0msize\u001b[0m\u001b[0;34m)\u001b[0m\u001b[0;34m:\u001b[0m\u001b[0;34m\u001b[0m\u001b[0;34m\u001b[0m\u001b[0m\n\u001b[0;32m---> 10\u001b[0;31m             \u001b[0ma\u001b[0m\u001b[0;34m[\u001b[0m\u001b[0mi\u001b[0m\u001b[0;34m-\u001b[0m\u001b[0;36m1\u001b[0m\u001b[0;34m]\u001b[0m\u001b[0;34m=\u001b[0m\u001b[0ma\u001b[0m\u001b[0;34m[\u001b[0m\u001b[0mi\u001b[0m\u001b[0;34m]\u001b[0m\u001b[0;34m\u001b[0m\u001b[0;34m\u001b[0m\u001b[0m\n\u001b[0m\u001b[1;32m     11\u001b[0m \u001b[0ma\u001b[0m\u001b[0;34m[\u001b[0m\u001b[0msize\u001b[0m\u001b[0;34m-\u001b[0m\u001b[0;36m1\u001b[0m\u001b[0;34m]\u001b[0m\u001b[0;34m=\u001b[0m\u001b[0mfirst_element\u001b[0m\u001b[0;34m\u001b[0m\u001b[0;34m\u001b[0m\u001b[0m\n\u001b[1;32m     12\u001b[0m \u001b[0mprint\u001b[0m\u001b[0;34m(\u001b[0m\u001b[0;34m\"Modified List is:\"\u001b[0m\u001b[0;34m,\u001b[0m\u001b[0ma\u001b[0m\u001b[0;34m)\u001b[0m\u001b[0;34m\u001b[0m\u001b[0;34m\u001b[0m\u001b[0m\n",
            "\u001b[0;31mIndexError\u001b[0m: list index out of range"
          ]
        }
      ]
    },
    {
      "cell_type": "code",
      "metadata": {
        "colab": {
          "base_uri": "https://localhost:8080/"
        },
        "id": "MTRE7QkJdGgZ",
        "outputId": "5c9bca14-02d7-409a-bb68-524d71ec4e8f"
      },
      "source": [
        "#right differences\n",
        "size=int(input(\"Enter size of the list\"))\n",
        "for i in range (size):\n",
        "      val=int(input(\"Enter size of the list:\"))\n",
        "      a.append(val)\n",
        "print(\"Original list is:\",a)\n",
        "last_element=a[size-1]\n",
        "for i in range(size-2,-1,-1):\n",
        "      a[i+1]=a[i]\n",
        "a[0]=last_element\n",
        "print(\"Modification list is:\",a)"
      ],
      "execution_count": null,
      "outputs": [
        {
          "output_type": "stream",
          "name": "stdout",
          "text": [
            "Enter size of the list5\n",
            "Enter size of the list:1\n",
            "Enter size of the list:2\n",
            "Enter size of the list:3\n",
            "Enter size of the list:4\n",
            "Enter size of the list:5\n",
            "Original list is: [5, 1, 2, 3, 4, 5]\n",
            "Modification list is: [4, 5, 1, 2, 3, 5]\n"
          ]
        }
      ]
    },
    {
      "cell_type": "code",
      "metadata": {
        "id": "gRAOKrBpdPYz"
      },
      "source": [
        ""
      ],
      "execution_count": null,
      "outputs": []
    }
  ]
}